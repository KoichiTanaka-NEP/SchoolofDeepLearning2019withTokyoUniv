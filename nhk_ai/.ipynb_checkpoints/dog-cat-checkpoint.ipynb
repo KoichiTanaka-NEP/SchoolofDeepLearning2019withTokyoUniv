{
 "cells": [
  {
   "cell_type": "markdown",
   "metadata": {},
   "source": [
    "# デモ1 (犬と猫の識別)"
   ]
  },
  {
   "cell_type": "markdown",
   "metadata": {},
   "source": [
    "\n",
    "\n",
    "\n",
    "\n",
    "\n"
   ]
  },
  {
   "cell_type": "markdown",
   "metadata": {},
   "source": [
    "(参考) \n",
    "- Kerasのドキュメントページ : https://keras.io/ja\n",
    "- Convolutional Neural Networkについて : http://qiita.com/icoxfog417/items/5fd55fad152231d706c2"
   ]
  },
  {
   "cell_type": "markdown",
   "metadata": {},
   "source": [
    "## 1.ライブラリをインポートする（外部の機能を使う準備をする）"
   ]
  },
  {
   "cell_type": "code",
   "execution_count": 1,
   "metadata": {
    "scrolled": true
   },
   "outputs": [
    {
     "name": "stdout",
     "output_type": "stream",
     "text": [
      "Requirement already satisfied: tensorflow in /usr/local/lib/python3.7/site-packages (1.14.0)\n",
      "Requirement already satisfied: keras in /usr/local/lib/python3.7/site-packages (2.2.4)\n",
      "Requirement already satisfied: numpy in /usr/local/lib/python3.7/site-packages (1.16.3)\n",
      "Requirement already satisfied: matplotlib in /usr/local/lib/python3.7/site-packages (3.1.1)\n",
      "Requirement already satisfied: seaborn in /usr/local/lib/python3.7/site-packages (0.9.0)\n",
      "Requirement already satisfied: absl-py>=0.7.0 in /usr/local/lib/python3.7/site-packages/absl_py-0.7.1-py3.7.egg (from tensorflow) (0.7.1)\n",
      "Requirement already satisfied: wrapt>=1.11.1 in /Users/smiyazato/Library/Python/3.7/lib/python/site-packages (from tensorflow) (1.11.1)\n",
      "Requirement already satisfied: keras-applications>=1.0.6 in /usr/local/lib/python3.7/site-packages/Keras_Applications-1.0.8-py3.7.egg (from tensorflow) (1.0.8)\n",
      "Requirement already satisfied: protobuf>=3.6.1 in /usr/local/lib/python3.7/site-packages/protobuf-3.9.0rc1-py3.7-macosx-10.14-x86_64.egg (from tensorflow) (3.9.0rc1)\n",
      "Requirement already satisfied: grpcio>=1.8.6 in /usr/local/lib/python3.7/site-packages/grpcio-1.22.0-py3.7-macosx-10.14-x86_64.egg (from tensorflow) (1.22.0)\n",
      "Requirement already satisfied: gast>=0.2.0 in /usr/local/lib/python3.7/site-packages/gast-0.2.2-py3.7.egg (from tensorflow) (0.2.2)\n",
      "Requirement already satisfied: tensorboard<1.15.0,>=1.14.0 in /usr/local/lib/python3.7/site-packages (from tensorflow) (1.14.0)\n",
      "Requirement already satisfied: google-pasta>=0.1.6 in /usr/local/lib/python3.7/site-packages/google_pasta-0.1.7-py3.7.egg (from tensorflow) (0.1.7)\n",
      "Requirement already satisfied: astor>=0.6.0 in /usr/local/lib/python3.7/site-packages/astor-0.8.0-py3.7.egg (from tensorflow) (0.8.0)\n",
      "Requirement already satisfied: six>=1.10.0 in /Users/smiyazato/Library/Python/3.7/lib/python/site-packages (from tensorflow) (1.12.0)\n",
      "Requirement already satisfied: tensorflow-estimator<1.15.0rc0,>=1.14.0rc0 in /usr/local/lib/python3.7/site-packages (from tensorflow) (1.14.0)\n",
      "Requirement already satisfied: wheel>=0.26 in /usr/local/lib/python3.7/site-packages (from tensorflow) (0.33.1)\n",
      "Requirement already satisfied: keras-preprocessing>=1.0.5 in /usr/local/lib/python3.7/site-packages/Keras_Preprocessing-1.1.0-py3.7.egg (from tensorflow) (1.1.0)\n",
      "Requirement already satisfied: termcolor>=1.1.0 in /usr/local/lib/python3.7/site-packages/termcolor-1.1.0-py3.7.egg (from tensorflow) (1.1.0)\n",
      "Requirement already satisfied: h5py in /Users/smiyazato/Library/Python/3.7/lib/python/site-packages (from keras) (2.9.0)\n",
      "Requirement already satisfied: scipy>=0.14 in /usr/local/lib/python3.7/site-packages (from keras) (1.2.1)\n",
      "Requirement already satisfied: pyyaml in /usr/local/lib/python3.7/site-packages/PyYAML-5.1.1-py3.7-macosx-10.14-x86_64.egg (from keras) (5.1.1)\n",
      "Requirement already satisfied: cycler>=0.10 in /usr/local/lib/python3.7/site-packages (from matplotlib) (0.10.0)\n",
      "Requirement already satisfied: pyparsing!=2.0.4,!=2.1.2,!=2.1.6,>=2.0.1 in /usr/local/lib/python3.7/site-packages (from matplotlib) (2.4.0)\n",
      "Requirement already satisfied: kiwisolver>=1.0.1 in /usr/local/lib/python3.7/site-packages (from matplotlib) (1.1.0)\n",
      "Requirement already satisfied: python-dateutil>=2.1 in /Users/smiyazato/Library/Python/3.7/lib/python/site-packages (from matplotlib) (2.8.0)\n",
      "Requirement already satisfied: pandas>=0.15.2 in /Users/smiyazato/Library/Python/3.7/lib/python/site-packages (from seaborn) (0.24.2)\n",
      "Requirement already satisfied: setuptools in /usr/local/lib/python3.7/site-packages (from protobuf>=3.6.1->tensorflow) (41.0.1)\n",
      "Requirement already satisfied: markdown>=2.6.8 in /usr/local/lib/python3.7/site-packages/Markdown-3.1.1-py3.7.egg (from tensorboard<1.15.0,>=1.14.0->tensorflow) (3.1.1)\n",
      "Requirement already satisfied: werkzeug>=0.11.15 in /usr/local/lib/python3.7/site-packages/Werkzeug-0.15.4-py3.7.egg (from tensorboard<1.15.0,>=1.14.0->tensorflow) (0.15.4)\n",
      "Requirement already satisfied: pytz>=2011k in /Users/smiyazato/Library/Python/3.7/lib/python/site-packages (from pandas>=0.15.2->seaborn) (2019.1)\n"
     ]
    },
    {
     "name": "stderr",
     "output_type": "stream",
     "text": [
      "Using TensorFlow backend.\n"
     ]
    }
   ],
   "source": [
    "#ユーザが指定するべき部分のみコメント（灰色の文字）で示しています\n",
    "!pip3 install tensorflow keras numpy matplotlib seaborn\n",
    "#↑インストール\n",
    "import sys\n",
    "sys.path.append('./aitoolkit') \n",
    "from aitoolkit import ObjectDetector\n",
    "from aitoolkit import plot_learning_history\n",
    "%matplotlib inline\n",
    "from IPython.display import Image"
   ]
  },
  {
   "cell_type": "markdown",
   "metadata": {},
   "source": [
    "## 2. モデルの定義をする\n",
    "- まずは自分で小規模なモデルを作ってみる"
   ]
  },
  {
   "cell_type": "code",
   "execution_count": 2,
   "metadata": {},
   "outputs": [
    {
     "name": "stderr",
     "output_type": "stream",
     "text": [
      "WARNING: Logging before flag parsing goes to stderr.\n",
      "W0823 15:50:54.585273 4521985472 deprecation_wrapper.py:119] From /usr/local/lib/python3.7/site-packages/keras/backend/tensorflow_backend.py:74: The name tf.get_default_graph is deprecated. Please use tf.compat.v1.get_default_graph instead.\n",
      "\n",
      "W0823 15:50:54.633831 4521985472 deprecation_wrapper.py:119] From /usr/local/lib/python3.7/site-packages/keras/backend/tensorflow_backend.py:517: The name tf.placeholder is deprecated. Please use tf.compat.v1.placeholder instead.\n",
      "\n",
      "W0823 15:50:54.643407 4521985472 deprecation_wrapper.py:119] From /usr/local/lib/python3.7/site-packages/keras/backend/tensorflow_backend.py:4138: The name tf.random_uniform is deprecated. Please use tf.random.uniform instead.\n",
      "\n",
      "W0823 15:50:54.707269 4521985472 deprecation_wrapper.py:119] From /usr/local/lib/python3.7/site-packages/keras/backend/tensorflow_backend.py:3976: The name tf.nn.max_pool is deprecated. Please use tf.nn.max_pool2d instead.\n",
      "\n",
      "W0823 15:50:54.745236 4521985472 deprecation_wrapper.py:119] From /usr/local/lib/python3.7/site-packages/keras/backend/tensorflow_backend.py:174: The name tf.get_default_session is deprecated. Please use tf.compat.v1.get_default_session instead.\n",
      "\n",
      "W0823 15:50:54.746260 4521985472 deprecation_wrapper.py:119] From /usr/local/lib/python3.7/site-packages/keras/backend/tensorflow_backend.py:181: The name tf.ConfigProto is deprecated. Please use tf.compat.v1.ConfigProto instead.\n",
      "\n"
     ]
    },
    {
     "name": "stdout",
     "output_type": "stream",
     "text": [
      "ラベル : \n",
      "['cat', 'dog']\n"
     ]
    },
    {
     "name": "stderr",
     "output_type": "stream",
     "text": [
      "W0823 15:50:54.804745 4521985472 deprecation_wrapper.py:119] From /usr/local/lib/python3.7/site-packages/keras/backend/tensorflow_backend.py:1834: The name tf.nn.fused_batch_norm is deprecated. Please use tf.compat.v1.nn.fused_batch_norm instead.\n",
      "\n"
     ]
    }
   ],
   "source": [
    "from keras.layers import Input, Dropout\n",
    "from keras.layers.convolutional import Convolution2D, MaxPooling2D\n",
    "from keras.layers.normalization import BatchNormalization\n",
    "from keras.models import Model\n",
    "import warnings\n",
    "warnings.filterwarnings('ignore')\n",
    "#出てくるエラー（W0808とか）は無視してOK\n",
    "\n",
    "detector = ObjectDetector(train_data_dir = './images/train/cat_or_dog/',validation_data_dir = './images/validation/cat_or_dog/',\\\n",
    "                          result_data_dir = 'results/cat_or_dog/')\n",
    "input_tensor = Input(shape=(200, 200, 3))\n",
    "x = Convolution2D(48, 11, strides=3, activation='relu', padding='same')(input_tensor)\n",
    "x = MaxPooling2D(3, strides=2)(x)\n",
    "x = BatchNormalization()(x)\n",
    "x = Convolution2D(128, 5, strides=3, activation='relu', padding='same')(x)\n",
    "x = MaxPooling2D(3, strides=2)(x)\n",
    "x = BatchNormalization()(x)\n",
    "x = Convolution2D(192, 3, strides=1, activation='relu', padding='same')(x)\n",
    "x = Convolution2D(192, 3, strides=1, activation='relu', padding='same')(x)\n",
    "x = Convolution2D(128, 3, strides=1, activation='relu', padding='same')(x)\n",
    "x = MaxPooling2D(3, strides=2)(x)\n",
    "x = BatchNormalization()(x)\n",
    "conv_model = Model(input=input_tensor, output=x)"
   ]
  },
  {
   "cell_type": "markdown",
   "metadata": {},
   "source": [
    "## 3. データセットの定義をする\n",
    "- batch_size 一度に何枚を学習に利用するか デフォルト 32\n",
    "- is_augmenting データのオーグメンテーション（水増し）をするならTrue デフォルト:True"
   ]
  },
  {
   "cell_type": "code",
   "execution_count": 3,
   "metadata": {},
   "outputs": [
    {
     "name": "stdout",
     "output_type": "stream",
     "text": [
      "ラベル : \n",
      "['cat', 'dog']\n",
      "Found 1908 images belonging to 2 classes.\n",
      "Found 20 images belonging to 2 classes.\n"
     ]
    }
   ],
   "source": [
    "original_detector = ObjectDetector(train_data_dir = './images/train/cat_or_dog/',validation_data_dir = './images/validation/cat_or_dog/',\\\n",
    "                          result_data_dir = 'results/cat_or_dog/')\n",
    "#↓ユーザはここを指定\n",
    "original_detector.create_datasets(batch_size=16, is_augmenting=True)"
   ]
  },
  {
   "cell_type": "markdown",
   "metadata": {},
   "source": [
    "## 4. 学習をする\n",
    "- 匂配計算について : http://postd.cc/optimizing-gradient-descent/\n",
    "- detector.create_model()について\n",
    "    - どのようなアルゴリズムで学習するかを決める\n",
    "    - sgd_lr : SGD（重みを更新するクラス）の学習率(範囲t：t>0.0)、デフォルト：0.01\n",
    "    - sgd_momentum : SGDのモメンタム（パラメーターの一種）、デフォルト:0.1\n",
    "    - original_model : 自分で定義したモデルを使う時、ここにmodelを代入する、デフォルト:None\n",
    "    - batch_norm : Batch Normalizationを使うかどうか、デフォルト:True\n",
    "    - dropout : Dropoutを使うかどうか、デフォルト:True\n",
    "- detector.fit()について\n",
    "    - 実際に学習を行う\n",
    "    - samples_per_epoch : 1エポック中にどれくらいの数の画像を使うか、デフォルト：2000\n",
    "    - nb_validation_samples : 1エポックの検証にどれくらいの数の画像を使うか、デフォルト：40\n",
    "    - nb_epoch : 学習にどれくらいのエポックを回すか、デフォルト : 20\n",
    "- 結果は自動的に出力される"
   ]
  },
  {
   "cell_type": "code",
   "execution_count": 5,
   "metadata": {},
   "outputs": [
    {
     "name": "stdout",
     "output_type": "stream",
     "text": [
      "_________________________________________________________________\n",
      "Layer (type)                 Output Shape              Param #   \n",
      "=================================================================\n",
      "flatten_2 (Flatten)          (None, 512)               0         \n",
      "_________________________________________________________________\n",
      "dropout_4 (Dropout)          (None, 512)               0         \n",
      "_________________________________________________________________\n",
      "dense_4 (Dense)              (None, 64)                32832     \n",
      "_________________________________________________________________\n",
      "batch_normalization_6 (Batch (None, 64)                256       \n",
      "_________________________________________________________________\n",
      "dropout_5 (Dropout)          (None, 64)                0         \n",
      "_________________________________________________________________\n",
      "dense_5 (Dense)              (None, 64)                4160      \n",
      "_________________________________________________________________\n",
      "batch_normalization_7 (Batch (None, 64)                256       \n",
      "_________________________________________________________________\n",
      "dropout_6 (Dropout)          (None, 64)                0         \n",
      "_________________________________________________________________\n",
      "dense_6 (Dense)              (None, 2)                 130       \n",
      "=================================================================\n",
      "Total params: 37,634\n",
      "Trainable params: 37,378\n",
      "Non-trainable params: 256\n",
      "_________________________________________________________________\n",
      "_________________________________________________________________\n",
      "Layer (type)                 Output Shape              Param #   \n",
      "=================================================================\n",
      "input_1 (InputLayer)         (None, 200, 200, 3)       0         \n",
      "_________________________________________________________________\n",
      "conv2d_1 (Conv2D)            (None, 67, 67, 48)        17472     \n",
      "_________________________________________________________________\n",
      "max_pooling2d_1 (MaxPooling2 (None, 33, 33, 48)        0         \n",
      "_________________________________________________________________\n",
      "batch_normalization_1 (Batch (None, 33, 33, 48)        192       \n",
      "_________________________________________________________________\n",
      "conv2d_2 (Conv2D)            (None, 11, 11, 128)       153728    \n",
      "_________________________________________________________________\n",
      "max_pooling2d_2 (MaxPooling2 (None, 5, 5, 128)         0         \n",
      "_________________________________________________________________\n",
      "batch_normalization_2 (Batch (None, 5, 5, 128)         512       \n",
      "_________________________________________________________________\n",
      "conv2d_3 (Conv2D)            (None, 5, 5, 192)         221376    \n",
      "_________________________________________________________________\n",
      "conv2d_4 (Conv2D)            (None, 5, 5, 192)         331968    \n",
      "_________________________________________________________________\n",
      "conv2d_5 (Conv2D)            (None, 5, 5, 128)         221312    \n",
      "_________________________________________________________________\n",
      "max_pooling2d_3 (MaxPooling2 (None, 2, 2, 128)         0         \n",
      "_________________________________________________________________\n",
      "batch_normalization_3 (Batch (None, 2, 2, 128)         512       \n",
      "_________________________________________________________________\n",
      "sequential_2 (Sequential)    (None, 2)                 37634     \n",
      "=================================================================\n",
      "Total params: 984,706\n",
      "Trainable params: 983,842\n",
      "Non-trainable params: 864\n",
      "_________________________________________________________________\n"
     ]
    },
    {
     "ename": "TypeError",
     "evalue": "fit_generator() got an unexpected keyword argument 'augment'",
     "output_type": "error",
     "traceback": [
      "\u001b[0;31m---------------------------------------------------------------------------\u001b[0m",
      "\u001b[0;31mTypeError\u001b[0m                                 Traceback (most recent call last)",
      "\u001b[0;32m<ipython-input-5-67614fb8b882>\u001b[0m in \u001b[0;36m<module>\u001b[0;34m\u001b[0m\n\u001b[1;32m      3\u001b[0m \u001b[0moriginal_detector\u001b[0m\u001b[0;34m.\u001b[0m\u001b[0mget_model_summary\u001b[0m\u001b[0;34m(\u001b[0m\u001b[0;34m)\u001b[0m\u001b[0;34m\u001b[0m\u001b[0;34m\u001b[0m\u001b[0m\n\u001b[1;32m      4\u001b[0m \u001b[0;31m#↓ユーザはここ（nb_epoch）を指定\u001b[0m\u001b[0;34m\u001b[0m\u001b[0;34m\u001b[0m\u001b[0;34m\u001b[0m\u001b[0m\n\u001b[0;32m----> 5\u001b[0;31m \u001b[0moriginal_detector\u001b[0m\u001b[0;34m.\u001b[0m\u001b[0mfit\u001b[0m\u001b[0;34m(\u001b[0m\u001b[0msteps_per_epoch\u001b[0m\u001b[0;34m=\u001b[0m\u001b[0;36m2000\u001b[0m\u001b[0;34m,\u001b[0m \u001b[0mvalidation_steps\u001b[0m\u001b[0;34m=\u001b[0m\u001b[0;36m40\u001b[0m\u001b[0;34m)\u001b[0m\u001b[0;34m\u001b[0m\u001b[0;34m\u001b[0m\u001b[0m\n\u001b[0m\u001b[1;32m      6\u001b[0m \u001b[0moriginal_detector\u001b[0m\u001b[0;34m.\u001b[0m\u001b[0moutput_history\u001b[0m\u001b[0;34m(\u001b[0m\u001b[0;34m'original_istory.txt'\u001b[0m\u001b[0;34m)\u001b[0m\u001b[0;34m\u001b[0m\u001b[0;34m\u001b[0m\u001b[0m\n",
      "\u001b[0;32m~/Dropbox/宮里/nhk_ai/aitoolkit/object_detector.py\u001b[0m in \u001b[0;36mfit\u001b[0;34m(self, steps_per_epoch, validation_steps, nb_epoch, log_dir, use_reduce_lr)\u001b[0m\n\u001b[1;32m    119\u001b[0m                 self.history = self.model.fit_generator(self.train_generator, augment=True, steps_per_epoch=steps_per_epoch/(self.batch_size), \\\n\u001b[1;32m    120\u001b[0m                                                         \u001b[0mnb_epoch\u001b[0m\u001b[0;34m=\u001b[0m\u001b[0mnb_epoch\u001b[0m\u001b[0;34m,\u001b[0m \u001b[0mvalidation_data\u001b[0m\u001b[0;34m=\u001b[0m\u001b[0mself\u001b[0m\u001b[0;34m.\u001b[0m\u001b[0mvalidation_generator\u001b[0m\u001b[0;34m,\u001b[0m\u001b[0;31m \u001b[0m\u001b[0;31m\\\u001b[0m\u001b[0;34m\u001b[0m\u001b[0;34m\u001b[0m\u001b[0m\n\u001b[0;32m--> 121\u001b[0;31m                                                         validation_steps=validation_steps, callbacks=callbacks)\n\u001b[0m\u001b[1;32m    122\u001b[0m \u001b[0;34m\u001b[0m\u001b[0m\n\u001b[1;32m    123\u001b[0m     \u001b[0;32mdef\u001b[0m \u001b[0mdetect\u001b[0m\u001b[0;34m(\u001b[0m\u001b[0mself\u001b[0m\u001b[0;34m,\u001b[0m \u001b[0mfilename\u001b[0m\u001b[0;34m)\u001b[0m\u001b[0;34m:\u001b[0m\u001b[0;34m\u001b[0m\u001b[0;34m\u001b[0m\u001b[0m\n",
      "\u001b[0;32m/usr/local/lib/python3.7/site-packages/keras/legacy/interfaces.py\u001b[0m in \u001b[0;36mwrapper\u001b[0;34m(*args, **kwargs)\u001b[0m\n\u001b[1;32m     89\u001b[0m                 warnings.warn('Update your `' + object_name + '` call to the ' +\n\u001b[1;32m     90\u001b[0m                               'Keras 2 API: ' + signature, stacklevel=2)\n\u001b[0;32m---> 91\u001b[0;31m             \u001b[0;32mreturn\u001b[0m \u001b[0mfunc\u001b[0m\u001b[0;34m(\u001b[0m\u001b[0;34m*\u001b[0m\u001b[0margs\u001b[0m\u001b[0;34m,\u001b[0m \u001b[0;34m**\u001b[0m\u001b[0mkwargs\u001b[0m\u001b[0;34m)\u001b[0m\u001b[0;34m\u001b[0m\u001b[0;34m\u001b[0m\u001b[0m\n\u001b[0m\u001b[1;32m     92\u001b[0m         \u001b[0mwrapper\u001b[0m\u001b[0;34m.\u001b[0m\u001b[0m_original_function\u001b[0m \u001b[0;34m=\u001b[0m \u001b[0mfunc\u001b[0m\u001b[0;34m\u001b[0m\u001b[0;34m\u001b[0m\u001b[0m\n\u001b[1;32m     93\u001b[0m         \u001b[0;32mreturn\u001b[0m \u001b[0mwrapper\u001b[0m\u001b[0;34m\u001b[0m\u001b[0;34m\u001b[0m\u001b[0m\n",
      "\u001b[0;31mTypeError\u001b[0m: fit_generator() got an unexpected keyword argument 'augment'"
     ]
    }
   ],
   "source": [
    "#↓ユーザはここを指定\n",
    "original_detector.create_model(sgd_lr=0.02, sgd_momentum=0.9, original_model=conv_model, batch_norm = True, dropout = True)\n",
    "original_detector.get_model_summary()\n",
    "#↓ユーザはここ（nb_epoch）を指定\n",
    "original_detector.fit(steps_per_epoch=2000, validation_steps=40, nb_epoch=5)\n",
    "original_detector.output_history('original_istory.txt')"
   ]
  },
  {
   "cell_type": "markdown",
   "metadata": {},
   "source": [
    "# ここからは精度向上の為の発展\n",
    "## 5. 既存の大規模なモデルを使う"
   ]
  },
  {
   "cell_type": "code",
   "execution_count": null,
   "metadata": {
    "scrolled": true
   },
   "outputs": [],
   "source": [
    "#出てくるエラー（W0808とか）は無視してOK\n",
    "import warnings\n",
    "warnings.filterwarnings('ignore')\n",
    "detector = ObjectDetector(train_data_dir = './images/train/cat_or_dog/',validation_data_dir = './images/validation/cat_or_dog/',\\\n",
    "                          result_data_dir = 'results/cat_or_dog/')\n",
    "#↓ユーザはここを指定\n",
    "detector.create_model(sgd_lr=0.0008, sgd_momentum=0.9, original_model=None, batch_norm=True, dropout=True)\n",
    "#original_model=None で既存のモデルを使う事を選択する"
   ]
  },
  {
   "cell_type": "markdown",
   "metadata": {},
   "source": [
    "## 6. Fine-tuningの設定を行う\n",
    "今回だと、第三者が作ったVGG-16という、1000個の種類の画像を識別するモデルを初期状態として読み込んでいて、そのモデルの中で、どこを学習可能にして、どこを不変にするのかを設定する。Fine-tuningの時は学習率は小さめで良い。"
   ]
  },
  {
   "cell_type": "code",
   "execution_count": null,
   "metadata": {},
   "outputs": [],
   "source": [
    "for index in range(15): # 一番上から15番目のレイヤーまで重みを固定する。\n",
    "    detector.deactivate_layer(index)\n",
    "detector.get_model_summary()"
   ]
  },
  {
   "cell_type": "markdown",
   "metadata": {},
   "source": [
    "## 7.データセットの定義"
   ]
  },
  {
   "cell_type": "code",
   "execution_count": null,
   "metadata": {},
   "outputs": [],
   "source": [
    "#↓ユーザはここを指定\n",
    "detector.create_datasets(batch_size=32, is_augmenting=True)"
   ]
  },
  {
   "cell_type": "markdown",
   "metadata": {},
   "source": [
    "## 8.学習"
   ]
  },
  {
   "cell_type": "code",
   "execution_count": null,
   "metadata": {},
   "outputs": [],
   "source": [
    "#↓ユーザはここを指定\n",
    "detector.fit(steps_per_epoch=2000, validation_steps=40, nb_epoch=5)"
   ]
  },
  {
   "cell_type": "markdown",
   "metadata": {},
   "source": [
    "学習の様子をテキストに出力する。"
   ]
  },
  {
   "cell_type": "code",
   "execution_count": null,
   "metadata": {},
   "outputs": [],
   "source": [
    "detector.output_history('history.txt')"
   ]
  },
  {
   "cell_type": "markdown",
   "metadata": {},
   "source": [
    "## 補足.モデルの重みを出力する\n",
    "- detector.dump_model_weights(\"出力先のパス\")\n",
    "- \"hdf5\"という形式にする"
   ]
  },
  {
   "cell_type": "code",
   "execution_count": null,
   "metadata": {},
   "outputs": [],
   "source": [
    "detector.dump_model_weights('./models/cat_or_dog/model.hdf5')"
   ]
  },
  {
   "cell_type": "markdown",
   "metadata": {},
   "source": [
    "- 一度出力した重みは、read_model_weights()を使って利用できる。"
   ]
  },
  {
   "cell_type": "code",
   "execution_count": null,
   "metadata": {},
   "outputs": [],
   "source": [
    "detector.read_model_weights('./models/cat_or_dog/model.hdf5')"
   ]
  }
 ],
 "metadata": {
  "kernelspec": {
   "display_name": "Python 3",
   "language": "python",
   "name": "python3"
  },
  "language_info": {
   "codemirror_mode": {
    "name": "ipython",
    "version": 3
   },
   "file_extension": ".py",
   "mimetype": "text/x-python",
   "name": "python",
   "nbconvert_exporter": "python",
   "pygments_lexer": "ipython3",
   "version": "3.7.3"
  }
 },
 "nbformat": 4,
 "nbformat_minor": 1
}
