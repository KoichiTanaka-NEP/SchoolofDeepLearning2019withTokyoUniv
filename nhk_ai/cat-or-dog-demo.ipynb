{
 "cells": [
  {
   "cell_type": "markdown",
   "metadata": {},
   "source": [
    "# デモ(犬と猫の識別)"
   ]
  },
  {
   "cell_type": "markdown",
   "metadata": {},
   "source": [
    "\n",
    "\n",
    "\n",
    "\n",
    "\n"
   ]
  },
  {
   "cell_type": "markdown",
   "metadata": {},
   "source": [
    "(参考) \n",
    "- Kerasのドキュメントページ : https://keras.io/ja\n",
    "- Convolutional Neural Networkについて : http://qiita.com/icoxfog417/items/5fd55fad152231d706c2"
   ]
  },
  {
   "cell_type": "markdown",
   "metadata": {},
   "source": [
    "## 1.ライブラリをインポートする（外部の機能を使う準備をする）"
   ]
  },
  {
   "cell_type": "code",
   "execution_count": 1,
   "metadata": {
    "scrolled": true
   },
   "outputs": [
    {
     "name": "stdout",
     "output_type": "stream",
     "text": [
      "Requirement already satisfied: tensorflow in /usr/local/lib/python3.7/site-packages (1.14.0)\n",
      "Requirement already satisfied: keras in /usr/local/lib/python3.7/site-packages (2.2.4)\n",
      "Requirement already satisfied: numpy in /usr/local/lib/python3.7/site-packages (1.16.3)\n",
      "Requirement already satisfied: matplotlib in /usr/local/lib/python3.7/site-packages (3.1.1)\n",
      "Requirement already satisfied: seaborn in /usr/local/lib/python3.7/site-packages (0.9.0)\n",
      "Requirement already satisfied: absl-py>=0.7.0 in /usr/local/lib/python3.7/site-packages/absl_py-0.7.1-py3.7.egg (from tensorflow) (0.7.1)\n",
      "Requirement already satisfied: astor>=0.6.0 in /usr/local/lib/python3.7/site-packages/astor-0.8.0-py3.7.egg (from tensorflow) (0.8.0)\n",
      "Requirement already satisfied: gast>=0.2.0 in /usr/local/lib/python3.7/site-packages/gast-0.2.2-py3.7.egg (from tensorflow) (0.2.2)\n",
      "Requirement already satisfied: keras-applications>=1.0.6 in /usr/local/lib/python3.7/site-packages/Keras_Applications-1.0.8-py3.7.egg (from tensorflow) (1.0.8)\n",
      "Requirement already satisfied: tensorboard<1.15.0,>=1.14.0 in /usr/local/lib/python3.7/site-packages (from tensorflow) (1.14.0)\n",
      "Requirement already satisfied: google-pasta>=0.1.6 in /usr/local/lib/python3.7/site-packages/google_pasta-0.1.7-py3.7.egg (from tensorflow) (0.1.7)\n",
      "Requirement already satisfied: tensorflow-estimator<1.15.0rc0,>=1.14.0rc0 in /usr/local/lib/python3.7/site-packages (from tensorflow) (1.14.0)\n",
      "Requirement already satisfied: wheel>=0.26 in /usr/local/lib/python3.7/site-packages (from tensorflow) (0.33.6)\n",
      "Requirement already satisfied: termcolor>=1.1.0 in /usr/local/lib/python3.7/site-packages/termcolor-1.1.0-py3.7.egg (from tensorflow) (1.1.0)\n",
      "Requirement already satisfied: six>=1.10.0 in /Users/smiyazato/Library/Python/3.7/lib/python/site-packages (from tensorflow) (1.12.0)\n",
      "Requirement already satisfied: protobuf>=3.6.1 in /usr/local/lib/python3.7/site-packages/protobuf-3.9.0rc1-py3.7-macosx-10.14-x86_64.egg (from tensorflow) (3.9.0rc1)\n",
      "Requirement already satisfied: wrapt>=1.11.1 in /Users/smiyazato/Library/Python/3.7/lib/python/site-packages (from tensorflow) (1.11.1)\n",
      "Requirement already satisfied: keras-preprocessing>=1.0.5 in /usr/local/lib/python3.7/site-packages/Keras_Preprocessing-1.1.0-py3.7.egg (from tensorflow) (1.1.0)\n",
      "Requirement already satisfied: grpcio>=1.8.6 in /usr/local/lib/python3.7/site-packages/grpcio-1.22.0-py3.7-macosx-10.14-x86_64.egg (from tensorflow) (1.22.0)\n",
      "Requirement already satisfied: scipy>=0.14 in /usr/local/lib/python3.7/site-packages (from keras) (1.2.1)\n",
      "Requirement already satisfied: pyyaml in /usr/local/lib/python3.7/site-packages/PyYAML-5.1.1-py3.7-macosx-10.14-x86_64.egg (from keras) (5.1.1)\n",
      "Requirement already satisfied: h5py in /Users/smiyazato/Library/Python/3.7/lib/python/site-packages (from keras) (2.9.0)\n",
      "Requirement already satisfied: cycler>=0.10 in /usr/local/lib/python3.7/site-packages (from matplotlib) (0.10.0)\n",
      "Requirement already satisfied: python-dateutil>=2.1 in /Users/smiyazato/Library/Python/3.7/lib/python/site-packages (from matplotlib) (2.8.0)\n",
      "Requirement already satisfied: kiwisolver>=1.0.1 in /usr/local/lib/python3.7/site-packages (from matplotlib) (1.1.0)\n",
      "Requirement already satisfied: pyparsing!=2.0.4,!=2.1.2,!=2.1.6,>=2.0.1 in /usr/local/lib/python3.7/site-packages (from matplotlib) (2.4.0)\n",
      "Requirement already satisfied: pandas>=0.15.2 in /Users/smiyazato/Library/Python/3.7/lib/python/site-packages (from seaborn) (0.24.2)\n",
      "Requirement already satisfied: setuptools>=41.0.0 in /usr/local/lib/python3.7/site-packages (from tensorboard<1.15.0,>=1.14.0->tensorflow) (42.0.2)\n",
      "Requirement already satisfied: werkzeug>=0.11.15 in /usr/local/lib/python3.7/site-packages/Werkzeug-0.15.4-py3.7.egg (from tensorboard<1.15.0,>=1.14.0->tensorflow) (0.15.4)\n",
      "Requirement already satisfied: markdown>=2.6.8 in /usr/local/lib/python3.7/site-packages/Markdown-3.1.1-py3.7.egg (from tensorboard<1.15.0,>=1.14.0->tensorflow) (3.1.1)\n",
      "Requirement already satisfied: pytz>=2011k in /Users/smiyazato/Library/Python/3.7/lib/python/site-packages (from pandas>=0.15.2->seaborn) (2019.1)\n"
     ]
    },
    {
     "name": "stderr",
     "output_type": "stream",
     "text": [
      "Using TensorFlow backend.\n"
     ]
    }
   ],
   "source": [
    "#ユーザが指定するべき部分のみコメント（灰色の文字）で示しています\n",
    "!pip3 install tensorflow keras numpy matplotlib seaborn\n",
    "#↑インストール\n",
    "import sys\n",
    "import os\n",
    "os.environ[\"CUDA_VISIBLE_DEVICES\"] = '1'\n",
    "sys.path.append('./aitoolkit') \n",
    "from aitoolkit import ObjectDetector\n",
    "from aitoolkit import plot_learning_history\n",
    "%matplotlib inline\n",
    "from IPython.display import Image"
   ]
  },
  {
   "cell_type": "markdown",
   "metadata": {},
   "source": [
    "## 2. モデルの定義をする\n",
    "- まずは自分で小規模なモデルを作ってみる"
   ]
  },
  {
   "cell_type": "code",
   "execution_count": 2,
   "metadata": {},
   "outputs": [
    {
     "name": "stderr",
     "output_type": "stream",
     "text": [
      "WARNING: Logging before flag parsing goes to stderr.\n",
      "W0203 16:52:00.671535 4655830464 deprecation_wrapper.py:119] From /usr/local/lib/python3.7/site-packages/keras/backend/tensorflow_backend.py:74: The name tf.get_default_graph is deprecated. Please use tf.compat.v1.get_default_graph instead.\n",
      "\n",
      "W0203 16:52:00.717947 4655830464 deprecation_wrapper.py:119] From /usr/local/lib/python3.7/site-packages/keras/backend/tensorflow_backend.py:517: The name tf.placeholder is deprecated. Please use tf.compat.v1.placeholder instead.\n",
      "\n",
      "W0203 16:52:00.729645 4655830464 deprecation_wrapper.py:119] From /usr/local/lib/python3.7/site-packages/keras/backend/tensorflow_backend.py:4138: The name tf.random_uniform is deprecated. Please use tf.random.uniform instead.\n",
      "\n",
      "W0203 16:52:00.822442 4655830464 deprecation_wrapper.py:119] From /usr/local/lib/python3.7/site-packages/keras/backend/tensorflow_backend.py:3976: The name tf.nn.max_pool is deprecated. Please use tf.nn.max_pool2d instead.\n",
      "\n",
      "W0203 16:52:00.859902 4655830464 deprecation_wrapper.py:119] From /usr/local/lib/python3.7/site-packages/keras/backend/tensorflow_backend.py:174: The name tf.get_default_session is deprecated. Please use tf.compat.v1.get_default_session instead.\n",
      "\n",
      "W0203 16:52:00.861285 4655830464 deprecation_wrapper.py:119] From /usr/local/lib/python3.7/site-packages/keras/backend/tensorflow_backend.py:181: The name tf.ConfigProto is deprecated. Please use tf.compat.v1.ConfigProto instead.\n",
      "\n",
      "W0203 16:52:00.930450 4655830464 deprecation_wrapper.py:119] From /usr/local/lib/python3.7/site-packages/keras/backend/tensorflow_backend.py:1834: The name tf.nn.fused_batch_norm is deprecated. Please use tf.compat.v1.nn.fused_batch_norm instead.\n",
      "\n"
     ]
    }
   ],
   "source": [
    "from keras.layers import Input, Dropout\n",
    "from keras.layers.convolutional import Convolution2D, MaxPooling2D\n",
    "from keras.layers.normalization import BatchNormalization\n",
    "from keras.models import Model\n",
    "import warnings\n",
    "warnings.filterwarnings('ignore')\n",
    "#出てくるエラー（W0808とか）は無視してOK\n",
    "\n",
    "original_detector = ObjectDetector(train_data_dir = './images/train/cat_or_dog/',validation_data_dir = './images/validation/cat_or_dog/',\\\n",
    "                          result_data_dir = 'results/cat_or_dog/')\n",
    "input_tensor = Input(shape=(150, 150, 3))\n",
    "x = Convolution2D(48, 11, strides=3, activation='relu', padding='same')(input_tensor)\n",
    "x = MaxPooling2D(3, strides=2)(x)\n",
    "x = BatchNormalization()(x)\n",
    "x = Convolution2D(128, 5, strides=3, activation='relu', padding='same')(x)\n",
    "x = MaxPooling2D(3, strides=2)(x)\n",
    "x = BatchNormalization()(x)\n",
    "x = Convolution2D(192, 3, strides=1, activation='relu', padding='same')(x)\n",
    "x = Convolution2D(192, 3, strides=1, activation='relu', padding='same')(x)\n",
    "x = Convolution2D(128, 3, strides=1, activation='relu', padding='same')(x)\n",
    "x = MaxPooling2D(3, strides=2)(x)\n",
    "x = BatchNormalization()(x)\n",
    "conv_model = Model(input=input_tensor, output=x)"
   ]
  },
  {
   "cell_type": "markdown",
   "metadata": {},
   "source": [
    "## 3. データセットの定義をする\n",
    "- batch_size 一度に何枚を学習に利用するか デフォルト 32\n",
    "- is_augmenting データのオーグメンテーション（水増し）をするならTrue デフォルト:True"
   ]
  },
  {
   "cell_type": "code",
   "execution_count": 3,
   "metadata": {},
   "outputs": [
    {
     "name": "stdout",
     "output_type": "stream",
     "text": [
      "Found 1908 images belonging to 2 classes.\n",
      "Found 20 images belonging to 2 classes.\n",
      "ラベル:\n",
      "['cat', 'dog']\n"
     ]
    }
   ],
   "source": [
    "#↓ユーザはここを指定\n",
    "original_detector.create_datasets(batch_size=16, is_augmenting=True)"
   ]
  },
  {
   "cell_type": "markdown",
   "metadata": {},
   "source": [
    "## 4. 学習をする\n",
    "- 匂配計算について : http://postd.cc/optimizing-gradient-descent/\n",
    "- detector.create_model()・detector.compile_model（）について\n",
    "    - どのようなアルゴリズムで学習するかを決める\n",
    "    - original_model : 自分で定義したモデルを使う時、ここにmodelを代入する、デフォルト:None\n",
    "    - batch_norm : Batch Normalizationを使うかどうか、デフォルト:True\n",
    "    - dropout : Dropoutを使うかどうか、デフォルト:True\n",
    "    - sgd_lr : SGD（重みを更新するクラス）の学習率(範囲t：t>0.0)、デフォルト：0.01\n",
    "    - sgd_momentum : SGDのモメンタム（パラメーターの一種）、デフォルト:0.1\n",
    "\n",
    "- detector.fit()について\n",
    "    - 実際に学習を行う\n",
    "    - nb_epoch : 学習にどれくらいのエポックを回すか、デフォルト : 20\n",
    "    - batch_size : 1バッチでどれくらいの数の画像を使うか、デフォルト：32\n",
    "    - steps_per_epoch : 1エポックで何ステップの更新を使うか、デフォルト：100\n",
    " \n",
    "- 結果は自動的に出力される"
   ]
  },
  {
   "cell_type": "code",
   "execution_count": 4,
   "metadata": {},
   "outputs": [
    {
     "name": "stdout",
     "output_type": "stream",
     "text": [
      "------------------------------------------------------------------------------------------------\n",
      "------------------------------------------------------------------------------------------------\n",
      "Training Finished!!  Total Epoch :::1\n"
     ]
    }
   ],
   "source": [
    "original_detector.create_model(original_model=conv_model, batch_norm = True, dropout = True)\n",
    "#↓ユーザはここを指定\n",
    "original_detector.compile_model(sgd_lr=0.01, sgd_momentum=0.1)\n",
    "#↓ユーザはここ（nb_epoch）を指定\n",
    "original_detector.fit(nb_epoch = 5, batch_size=16, steps_per_epoch = 50)\n",
    "original_detector.dump_model_weights('./models/cat_or_dog/model.hdf5')"
   ]
  },
  {
   "cell_type": "markdown",
   "metadata": {},
   "source": [
    "## 学習の様子をテキストとグラフに出力する。"
   ]
  },
  {
   "cell_type": "code",
   "execution_count": 5,
   "metadata": {},
   "outputs": [
    {
     "data": {
      "image/png": "[encoded data removed]",
      "text/plain": [
       "<Figure size 1080x648 with 2 Axes>"
      ]
     },
     "metadata": {},
     "output_type": "display_data"
    }
   ],
   "source": [
    "original_detector.output_history('history.txt') # ./results/cat_or_dog/history.txt に保存\n",
    "plot_learning_history('./results/cat_or_dog/history.txt')"
   ]
  },
  {
   "cell_type": "markdown",
   "metadata": {},
   "source": [
    "## 1枚の画像で試す"
   ]
  },
  {
   "cell_type": "code",
   "execution_count": 6,
   "metadata": {},
   "outputs": [
    {
     "name": "stdout",
     "output_type": "stream",
     "text": [
      "結果 .... にゃー猫だにゃー🐱\n"
     ]
    },
    {
     "data": {
      "image/png": "[encoded data removed]",
      "text/plain": [
       "<Figure size 720x360 with 1 Axes>"
      ]
     },
     "metadata": {},
     "output_type": "display_data"
    },
    {
     "data": {
      "image/png": "[encoded data removed]",
      "text/plain": [
       "<Figure size 576x432 with 1 Axes>"
      ]
     },
     "metadata": {},
     "output_type": "display_data"
    },
    {
     "name": "stdout",
     "output_type": "stream",
     "text": [
      "detectメソッドが完了しました．\n"
     ]
    }
   ],
   "source": [
    "answer_text = {\n",
    "    \"dog\": \"犬だよ，ワン🐶\",\n",
    "    \"cat\": \"にゃー猫だにゃー🐱\"\n",
    "}\n",
    "\n",
    "original_detector.detect(\n",
    "    \"https://ichef.bbci.co.uk/wwfeatures/live/976_549/images/live/p0/7z/n7/p07zn7p7.jpg\", \n",
    "    answer_text, \n",
    "    verbose=True,\n",
    "    layer_index=3,\n",
    "    mode=\"online\"\n",
    ")\n"
   ]
  },
  {
   "cell_type": "markdown",
   "metadata": {},
   "source": [
    "# ここからは精度向上の為の発展\n",
    "## 5. 既存の大規模なモデルを使う"
   ]
  },
  {
   "cell_type": "code",
   "execution_count": 7,
   "metadata": {
    "scrolled": true
   },
   "outputs": [
    {
     "name": "stdout",
     "output_type": "stream",
     "text": [
      "create_modelメソッドが完了しました．\n",
      "compile_modelメソッドが完了しました．\n"
     ]
    }
   ],
   "source": [
    "#出てくるエラー（W0808とか）は無視してOK\n",
    "import warnings\n",
    "warnings.filterwarnings('ignore')\n",
    "detector = ObjectDetector(train_data_dir = './images/train/cat_or_dog/',validation_data_dir = './images/validation/cat_or_dog/',\\\n",
    "                          result_data_dir = 'results/cat_or_dog/')\n",
    "detector.create_model(original_model=None, batch_norm = True, dropout = True)\n",
    "#↓ユーザはここを指定\n",
    "detector.compile_model(sgd_lr=0.0008, sgd_momentum=0.9)\n",
    "#original_model=None で既存のモデルを使う事を選択する"
   ]
  },
  {
   "cell_type": "markdown",
   "metadata": {},
   "source": [
    "## 6. Fine-tuningの設定を行う\n",
    "今回だと、第三者が作ったVGG-16という、1000個の種類の画像を識別するモデルを初期状態として読み込んでいて、そのモデルの中で、どこを学習可能にして、どこを不変にするのかを設定する。Fine-tuningの時は学習率は小さめで良い。"
   ]
  },
  {
   "cell_type": "code",
   "execution_count": 8,
   "metadata": {},
   "outputs": [],
   "source": [
    "for index in range(15): # 一番上から15番目のレイヤーまで重みを固定する。\n",
    "    detector.deactivate_layer(index)"
   ]
  },
  {
   "cell_type": "markdown",
   "metadata": {},
   "source": [
    "## 7.データセットの定義"
   ]
  },
  {
   "cell_type": "code",
   "execution_count": 9,
   "metadata": {},
   "outputs": [
    {
     "name": "stdout",
     "output_type": "stream",
     "text": [
      "Found 1908 images belonging to 2 classes.\n",
      "Found 20 images belonging to 2 classes.\n",
      "ラベル:\n",
      "['cat', 'dog']\n"
     ]
    }
   ],
   "source": [
    "#↓ユーザはここを指定\n",
    "detector.create_datasets(batch_size=16, is_augmenting=True)"
   ]
  },
  {
   "cell_type": "markdown",
   "metadata": {},
   "source": [
    "## 8.学習"
   ]
  },
  {
   "cell_type": "code",
   "execution_count": null,
   "metadata": {},
   "outputs": [
    {
     "name": "stdout",
     "output_type": "stream",
     "text": [
      "Validation Sample Number : 20\n",
      "\n",
      "Epoch 1/2\n",
      " 3/50 [>.............................] - ETA: 5:49 - loss: 1.1567 - acc: 0.5625"
     ]
    }
   ],
   "source": [
    "#↓ユーザはここを指定\n",
    "detector.fit(nb_epoch = 2, batch_size=16, verbose=False, steps_per_epoch = 50)\n",
    "detector.dump_model_weights('./models/cat_or_dog/model.hdf5')"
   ]
  },
  {
   "cell_type": "markdown",
   "metadata": {},
   "source": [
    "## 学習の様子をテキストとグラフに出力する。"
   ]
  },
  {
   "cell_type": "code",
   "execution_count": null,
   "metadata": {},
   "outputs": [],
   "source": [
    "detector.output_history('history2.txt')\n",
    "plot_learning_history('./results/cat_or_dog/history2.txt')"
   ]
  },
  {
   "cell_type": "markdown",
   "metadata": {},
   "source": [
    "## 1枚の画像で試す"
   ]
  },
  {
   "cell_type": "code",
   "execution_count": null,
   "metadata": {},
   "outputs": [],
   "source": [
    "detector.detect(\n",
    "    \"https://upload.wikimedia.org/wikipedia/commons/thumb/9/9e/2016-06-14_Orange_and_white_tabby_cat_born_in_2016_%E8%8C%B6%E3%83%88%E3%83%A9%E7%99%BD%E3%81%AD%E3%81%93_DSCF6526%E2%98%86%E5%BD%A1.jpg/200px-2016-06-14_Orange_and_white_tabby_cat_born_in_2016_%E8%8C%B6%E3%83%88%E3%83%A9%E7%99%BD%E3%81%AD%E3%81%93_DSCF6526%E2%98%86%E5%BD%A1.jpg\", \n",
    "    answer_text, \n",
    "    verbose=True,\n",
    "    layer_index=3,\n",
    "    mode=\"online\"\n",
    ")"
   ]
  },
  {
   "cell_type": "markdown",
   "metadata": {},
   "source": [
    "## モデルの中身を表示する"
   ]
  },
  {
   "cell_type": "code",
   "execution_count": null,
   "metadata": {},
   "outputs": [],
   "source": [
    "detector.get_model_summary()\n",
    "for i in range(2):\n",
    "    detector.show_layer_activation(\"predictions\" , filter_indices=[i])"
   ]
  },
  {
   "cell_type": "markdown",
   "metadata": {},
   "source": [
    "## 補足.モデルの重みを出力する\n",
    "- detector.dump_model_weights(\"出力先のパス\")\n",
    "- \"hdf5\"という形式にする"
   ]
  },
  {
   "cell_type": "code",
   "execution_count": null,
   "metadata": {},
   "outputs": [],
   "source": [
    "detector.dump_model_weights('./models/cat_or_dog/model.hdf5')"
   ]
  },
  {
   "cell_type": "markdown",
   "metadata": {},
   "source": [
    "- 一度出力した重みは、read_model_weights()を使って利用できる。"
   ]
  },
  {
   "cell_type": "code",
   "execution_count": null,
   "metadata": {},
   "outputs": [],
   "source": [
    "detector.read_model_weights('./models/cat_or_dog/model.hdf5')"
   ]
  }
 ],
 "metadata": {
  "kernelspec": {
   "display_name": "Python 3",
   "language": "python",
   "name": "python3"
  },
  "language_info": {
   "codemirror_mode": {
    "name": "ipython",
    "version": 3
   },
   "file_extension": ".py",
   "mimetype": "text/x-python",
   "name": "python",
   "nbconvert_exporter": "python",
   "pygments_lexer": "ipython3",
   "version": "3.7.6"
  }
 },
 "nbformat": 4,
 "nbformat_minor": 1
}
